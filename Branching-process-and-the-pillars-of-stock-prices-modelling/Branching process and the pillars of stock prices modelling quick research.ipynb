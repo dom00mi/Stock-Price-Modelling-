{
 "cells": [
  {
   "cell_type": "markdown",
   "id": "dc72ac81",
   "metadata": {},
   "source": [
    "# Branching process and the pillars of stock prices modelling\n",
    "\n",
    "This small research enlightens on the relationship with Branching processes and stock prices modelling, and represents a bird’s eye view on the discipline of mathematical finance which has been flourishing thanks to huge developments in several mathematical branches such as stochastic calculus, PDEs and many others."
   ]
  },
  {
   "cell_type": "markdown",
   "id": "7fbfd46e",
   "metadata": {},
   "source": [
    "### Sections:\n",
    "\n",
    "#### 1. Introduction:\n",
    "\n",
    "#### 1.1 – Stochastic processes: the foundation of financial markets modelling\n",
    "\n",
    "#### 1.2 – Lognormal models and Brownian Motion\n",
    "\n",
    "#### 1.3– Drawbacks in the Lognormal model approach\n",
    "\n",
    "#### 2 – Randomly indexed branching process as a price process\n",
    "\n",
    "#### 3 – Key takeaways from the model\n",
    "\n",
    "#### Conclusion:\n",
    "\n",
    "#### References:\n",
    "\n",
    "\n"
   ]
  },
  {
   "cell_type": "markdown",
   "id": "8289fca4",
   "metadata": {},
   "source": [
    "### 1.Introduction:\n",
    "\n",
    "\n",
    "The aim of this research is to get the reader involved in the field of mathematical finance, briefly illustrating two stock prices models. Starting from a continuous process model and the assumption of lognormality in the distribution of stock prices, we are going to plunge into the randomly indexed branching process as a price process. This one is constructed by a Galton-Watson branching process subordinated with a Poisson process. Looking firstly at the continuous model and secondly at the discrete one, we will have the chance to understand their peculiar features, what differentiates them and what makes the discrete model a better representation of the share price dynamics.  This journey will go through the Galton-Watson branching process, a stochastic process arising from Francis Galton’s statistical investigation of family names. This will constitute a fundamental result in approaching similar stochastic processes, becoming a cornerstone in statistical modelling. \n",
    "In this paper, we are vastly using definitions and notions built up throughout Probability and Statistics modules. In order to define the price process, we are going to recall the notion independence for discrete and continuous random variables alongside the concept of sample as a set of objects collected from a statistical population. In this case, we are referring to a collection of random variables. Moreover, we are going to utilize the normal distribution and its properties. It will be crucial for our analysis to consider a normal vector that is a sum of two normal random variables. We also will extensively use the linearity of expectation and properties of variance.\n"
   ]
  },
  {
   "cell_type": "markdown",
   "id": "0480b73d",
   "metadata": {},
   "source": [
    "### 1.1 – Stochastic processes: the foundation of financial markets modelling\n",
    "\n",
    "We shall start with the very foundational concept of stochastic process. Let $S_0$ be the stock price at time $t=0$ and let $S_0$ ,$S_1$ ,…….,$S_t$  be a collection of some stock prices from time 0 to time t where $S_i$  are independent and identically distributed strictly positive  - stock prices cannot indeed be negative. We say that $(S_t)_{t∈ \\mathbb{N}}$ is a discrete-time stochastic process as the index variable t is taken from the set of natural numbers. \n",
    "If the index variable t takes a continuous set of values, then $(S_t)_{t∈ \\mathbb{R}}$ is a continuous-time stochastic process. \n"
   ]
  },
  {
   "cell_type": "markdown",
   "id": "44a70f2f",
   "metadata": {},
   "source": [
    "### 1.2 – Lognormal models and Brownian Motion\n",
    "\n",
    "Lognormality plays a pivotal role in mathematical finance, being one of the fundamental assumptions in share prices modelling. Let us assume that over the long-term stock prices grow at an exponential rate μ, which can be considered a required rate of return for the investor to hold the stock. (1.3)\n",
    "\\begin{equation}\n",
    "S_t = S_0 exp(μt)  \n",
    "\\end{equation}\n",
    "\n",
    "The parameter $μ$ is called the drift and the idea behind this equation is that stocks price movement is governed by a deterministic exponential growth rate μ. However, as Efficient Market Hypothesis asserts that asset prices reflect all available information and react quickly to new public information, we need to include the randomness of the stock movements in the model. After all, it is undisputed that stock prices are subjected to shocks and so random fluctuations whose magnitude is governed by a volatility $σ$.  This stochastic component arises from the Brownian Motion. \n",
    "Due to its historical connection with the physical process observed by the botanist Robert Brown, it was often called Brownian Motion. Nevertheless, it is also called Wiener process in honor of the mathematician Norbert Wiener. We  say that $W_t$ is a Wiener Process if it is a real valued continuous-time stochastic process satisfying:\n",
    "\n",
    "- i.\t$W_0 =1$;\n",
    "- ii.\t$∀ t>0$, the increments $W_{t+s}$ – $W_t$ are independent from $W_u$ and $u≤t$\n",
    "- iii.\t$∀ t,s>0$, $W_{t+s} − W_t ∼ N (0, s)$, and so has the same distribution as $W_s$\n",
    "- iv.\t$W_t$ has continuous paths: $W_t$ is continuous in $t$\n",
    "\n",
    "\n",
    "Based on these properties, we also have that $\\mathbb{E}(W_t )= 0$ and $Var(_Wt ) = t$ and so we can write   $W_t∼N(0,t)$.\n",
    "\n",
    "Coming back to (1.3), in the stochastic universe (1.4), the lognormal random-walk SDE has solution:\n",
    "\\begin{equation}\n",
    "S_t = S_0 exp (μt + σW_t)\n",
    "\\end{equation}\n",
    "\n",
    "With a bit of manipulation\n",
    "\\begin{equation}\n",
    "ln (S_t / S_0 ) = μt + σW_t\t\n",
    "\\end{equation}\n",
    "and using the properties of normal distribution), it yields that\n",
    "\\begin{equation}\n",
    "ln (S_t / S_0) ∼ N (μt, σ^2t) \n",
    "\\end{equation}\n",
    "\n",
    "or\n",
    "\\begin{equation}\n",
    "ln (S_t) ∼ N (μt + ln(S_0), σ^2t)\n",
    "\\end{equation}\n",
    "\n",
    "Since ln (S_t) is normally distributed, by the definition of the lognormal distribution, we have that the price St is lognormally distributed with mean μt + ln(S_0) and variance $σ^2t$. This result is extremely important as it constitutes the foundation for proving fundamental results such as Black-Scholes model for option pricing.\n"
   ]
  },
  {
   "cell_type": "markdown",
   "id": "a801434d",
   "metadata": {},
   "source": [
    "### 1.3 – Drawbacks in the Lognormal model approach\n",
    "\n",
    "The lognormal model is useful to explain how stock prices distributes over time within a certain range of volatility. Extreme moves in share prices become less likely as the stock price approaches zero. This is due to the positive nature of stock prices itself. However, numerous empirical evidences pioneered by Mandelbrot   and Fama , documented that the distribution of logarithm of stock return tend to have thicker tails than the normal distribution derived from the Brownian motion law. Furthermore, the stock prices sometimes exhibit large jumps when some important news is disclosed in the sense that the volatility of stock returns tends to be negatively correlated with the price. Stock prices were quoted in units of minimum tick size in many markets such as the New York Stock Exchange (NYSE) where they used units of $1/8$, then in $1/16$, and now $0.01$. \n",
    "Therefore, it is necessary to consider a model that includes the discreteness of the stock price.\n"
   ]
  },
  {
   "attachments": {
    "image.png": {
     "image/png": "[encoded data removed]"
    }
   },
   "cell_type": "markdown",
   "id": "f1007f93",
   "metadata": {},
   "source": [
    "### 2.0 – Randomly indexed branching process as a price process\n",
    "\n",
    "T.W. Epps  introduced a randomly indexed branching process for modeling the stock price. The model is constructed by Galton-Watson branching process subordinated with a Poisson process. has the following features: \n",
    "\n",
    "![image.png](attachment:image.png)\n",
    "\n",
    "- The extra randomness introduced by the subordination process produces in the increments and in the returns the same high proportion of outliers observed in high-frequency stock data.\n",
    "- The model predicts an inverse relation between variance of returns and the initial price which is well documented empirically. The possibility of extinction of the stock price process have a natural interpretation as bankruptcy.\n",
    "First, we will give a definition of the Galton-Watson process, a stochastic process arising from Francis Galton’s statistical investigation of family names. Then, we will move to the stock price model. Let $X_n,j$ be a random variable denoting the number of direct successors of member $j$ in period n where $X_n,j$  are independent and identically distributed random variables over $∀ n ∈ {0, 1, 2, ...}$ and $j ∈ {1, ..., Z_n}$, a Galton-Watson branching process is described by the following recursive relation:\n",
    "\\begin{equation}\n",
    "Z_{n+1} = Z_n \\sum_{j=1}^{n} X_{n,j}\n",
    "\\end{equation}\n",
    "\n",
    "This is the number of individuals at time $n+1$, $Z_{n+1}$, which is equal to the total number of offspring of the individuals 1,2,....\n",
    "\n",
    "Let on the probability space $(Ω, A, \\mathbb{P})$ be given:\n",
    "\n",
    "- A Galton-Watson branching process, $Z_n$, $n= 0,1,2, . . .$ with a non-random number of ancestors $Z_0>0$ and the offspring probability distribution is given by a two-parameter geometric distribution with parameters a and p such that:\n",
    "\n",
    "\n",
    "$\\mathbb{P}(Z_{n+1}= 0|Z_n= 1) = (1−a)$, \n",
    "\n",
    "$\\mathbb{P} (Z_{n+1}=k|Z_n= 1) =ap(1−p)k−1$, $∀ k= 1,2, . . . ,$ and $0< a <1$ ,$∀ p: 0< p <1$.\n",
    "\n",
    "- An indepedent Poisson Process $N(t)$, $∀ t>0$ with intensity $λ>0$\n",
    "\n",
    "Define the randomly indexed branching process $S(t) = Z_{N(t)}$. \n",
    "\n",
    "$S(t)$ represents the price of one share of stock at time t measured in units of minimum price movements (for example 0.01). \n",
    "We can find the mean and the variance of the process $S(t)$ and many other useful information. However, this is beyond the scope of the research and it will take further analysis on probability generating functions and other advanced statistical tools. "
   ]
  },
  {
   "cell_type": "markdown",
   "id": "af765dde",
   "metadata": {},
   "source": [
    "### 3.0 – Key takeaways from the model\n",
    "\n",
    "In this model, equity prices are viewed as consisting of an integer number of price particles. In each period, each price particle of equity price produces a random number of offspring price particles, the aggregate number of which comprises the equity price in the next period. By allowing a random number of generations to occur in each period, the model generates prices in continuous time. $(N_t)_{t>0}$ can be thought of as counting the number of information events up to $t$. The price process is pure jump, since $S(t)$ does not change between information shocks.\n",
    "In light of this analysis, we can notice that the discrete model truly describes stock price movements, by incorporating the dual nature of the share prices:\n",
    "\n",
    "- The randomness produces in the increments and the returns the same proportion of outliers observed in high-frequency stock data; however, unlike other models of stock returns, this one comprises the discreteness of the stock price\n",
    "\n",
    "- The probability of extinction $\\mathbb{P} (lim_{n→ ∞} Z_n = 0)$ is the stock price process and the distribution of the extinction time have natural interpretation as bankruptcy of the corresponding firm and can be applied in investigations of bankruptcy risk.\n"
   ]
  },
  {
   "cell_type": "markdown",
   "id": "422c5edf",
   "metadata": {},
   "source": [
    "### Conclusion:\n",
    "Through this small paper, we illustrated two important models in share prices modelling and we realized that the lognormality is a cornerstone in allowing us to understand the utmost meaning of stock prices modelling and its challenges. Building more advanced and competitive models will always require a deep understanding of stochastic processes and many other probability concepts. Also, it is clear that the branching process price model incorporates natural features of stock prices that are to be considered in the light of an increasingly more complex financial world. \n"
   ]
  },
  {
   "cell_type": "markdown",
   "id": "debac354",
   "metadata": {},
   "source": [
    "### References \n",
    "#### Sources:\n",
    "\n",
    "- E. Fama, Mandelbrot and the stable Paretian hypothesis, Journal of Business 36(1963) 420–429.\n",
    "\n",
    "- B. B. Mandelbrot, New methods in statistical economics, Journal of Political Economy,71(1963) 421–440\n",
    "\n",
    "- B. B. Mandelbrot, The variation of certain speculative prices, Journal of Business,36(1963) 394–419\n",
    "\n",
    "- Epps, T. W. (1996). Stock prices as branching processes. Stochastic Models, 12(4), 529-558.\n",
    "\n",
    "- A Brief Introduction to Stochastic Calculus - Foundations of Financial Engineering(2016) by Martin Haugh\n"
   ]
  }
 ],
 "metadata": {
  "kernelspec": {
   "display_name": "Python 3 (ipykernel)",
   "language": "python",
   "name": "python3"
  },
  "language_info": {
   "codemirror_mode": {
    "name": "ipython",
    "version": 3
   },
   "file_extension": ".py",
   "mimetype": "text/x-python",
   "name": "python",
   "nbconvert_exporter": "python",
   "pygments_lexer": "ipython3",
   "version": "3.11.5"
  }
 },
 "nbformat": 4,
 "nbformat_minor": 5
}
